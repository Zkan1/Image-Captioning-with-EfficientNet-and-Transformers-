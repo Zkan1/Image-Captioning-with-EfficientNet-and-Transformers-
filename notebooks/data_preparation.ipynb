{
 "cells": [
  {
   "cell_type": "code",
   "execution_count": null,
   "metadata": {},
   "outputs": [],
   "source": [
    "#  Temel importlar\n",
    "import os\n",
    "import pandas as pd\n",
    "import re\n",
    "from collections import defaultdict\n",
    "from tqdm import tqdm\n",
    "import matplotlib.pyplot as plt\n",
    "\n",
    "#  Dizin tanımları\n",
    "DATA_DIR = \"../data/flickr30k\"\n",
    "IMAGE_DIR = os.path.join(DATA_DIR, \"images\")\n",
    "CAPTION_FILE = os.path.join(DATA_DIR, \"results.csv\")  # veya txt/json\n",
    "\n",
    "#  Caption mapping sözlüğü (image_id → [caption1, caption2...])\n",
    "mapping = defaultdict(list)\n",
    "\n",
    "#  Caption verisini oku\n",
    "df = pd.read_csv(CAPTION_FILE, delimiter='|')\n",
    "print(df.head())\n",
    "\n",
    "#  Mapping sözlüğünü doldur\n",
    "for _, row in df.iterrows():\n",
    "    img_id = row['image_name'].strip().split('.')[0]\n",
    "    caption = row[' comment'].strip()\n",
    "    mapping[img_id].append(f\"<start> {caption} <end>\")\n",
    "\n",
    "#  Bir örnek göster\n",
    "for k in list(mapping.keys())[:1]:\n",
    "    print(f\"{k} => {mapping[k]}\")\n"
   ]
  },
  {
   "cell_type": "code",
   "execution_count": null,
   "metadata": {},
   "outputs": [],
   "source": [
    "def clean_caption(text):\n",
    "    text = text.lower()\n",
    "    text = re.sub(r\"[^a-zA-Z0-9\\s]\", \"\", text)  # noktalama işaretlerini kaldır\n",
    "    text = re.sub(r\"\\s+\", \" \", text).strip()\n",
    "    return text\n",
    "\n",
    "# Mapping sözlüğünü temizle\n",
    "for k in mapping:\n",
    "    mapping[k] = [f\"<start> {clean_caption(cap)} <end>\" for cap in mapping[k]]\n"
   ]
  },
  {
   "cell_type": "code",
   "execution_count": null,
   "metadata": {},
   "outputs": [],
   "source": [
    "from tensorflow.keras.preprocessing.text import Tokenizer\n",
    "\n",
    "all_captions = []\n",
    "for caps in mapping.values():\n",
    "    all_captions.extend(caps)\n",
    "\n",
    "tokenizer = Tokenizer(oov_token=\"<unk>\")\n",
    "tokenizer.fit_on_texts(all_captions)\n",
    "\n",
    "# Tokenizer’ı kaydet (ileride tekrar yüklemek için)\n",
    "import pickle\n",
    "with open(\"utils/flickr30k_tokenizer.pkl\", \"wb\") as f:\n",
    "    pickle.dump(tokenizer, f)\n",
    "\n",
    "# Maksimum uzunluk\n",
    "max_len = max(len(c.split()) for c in all_captions)\n",
    "print(\"Max caption length:\", max_len)\n"
   ]
  },
  {
   "cell_type": "code",
   "execution_count": null,
   "metadata": {},
   "outputs": [],
   "source": []
  }
 ],
 "metadata": {
  "kernelspec": {
   "display_name": "env_zkan",
   "language": "python",
   "name": "python3"
  },
  "language_info": {
   "name": "python",
   "version": "3.9.20"
  }
 },
 "nbformat": 4,
 "nbformat_minor": 2
}
