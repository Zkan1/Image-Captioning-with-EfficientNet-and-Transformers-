{
 "cells": [
  {
   "cell_type": "code",
   "execution_count": 4,
   "metadata": {},
   "outputs": [
    {
     "name": "stdout",
     "output_type": "stream",
     "text": [
      "       image_name  comment_number  \\\n",
      "0  1000092795.jpg               0   \n",
      "1  1000092795.jpg               1   \n",
      "2  1000092795.jpg               2   \n",
      "3  1000092795.jpg               3   \n",
      "4  1000092795.jpg               4   \n",
      "\n",
      "                                             comment  \n",
      "0   Two young guys with shaggy hair look at their...  \n",
      "1   Two young , White males are outside near many...  \n",
      "2   Two men in green shirts are standing in a yard .  \n",
      "3       A man in a blue shirt standing in a garden .  \n",
      "4            Two friends enjoy time spent together .  \n",
      "1000092795 => ['<start> Two young guys with shaggy hair look at their hands while hanging out in the yard . <end>', '<start> Two young , White males are outside near many bushes . <end>', '<start> Two men in green shirts are standing in a yard . <end>', '<start> A man in a blue shirt standing in a garden . <end>', '<start> Two friends enjoy time spent together . <end>']\n"
     ]
    }
   ],
   "source": [
    "#  Temel importlar\n",
    "import os\n",
    "import pandas as pd\n",
    "import re\n",
    "from collections import defaultdict\n",
    "from tqdm import tqdm\n",
    "import matplotlib.pyplot as plt\n",
    "\n",
    "#  Dizin tanımları\n",
    "DATA_DIR = \"../data/flickr30k\"\n",
    "IMAGE_DIR = os.path.join(DATA_DIR, \"images\")\n",
    "CAPTION_FILE = os.path.join(DATA_DIR, \"results.csv\")  # veya txt/json\n",
    "\n",
    "#  Caption mapping sözlüğü (image_id → [caption1, caption2...])\n",
    "mapping = defaultdict(list)\n",
    "\n",
    "#  Caption verisini oku\n",
    "df = pd.read_csv(CAPTION_FILE, delimiter='|')\n",
    "print(df.head())\n",
    "\n",
    "df[' comment'] = df[' comment'].fillna('')\n",
    "\n",
    "#  Mapping sözlüğünü doldur\n",
    "for _, row in df.iterrows():\n",
    "    img_id = row['image_name'].strip().split('.')[0]\n",
    "    caption = row[' comment'].strip()\n",
    "    mapping[img_id].append(f\"<start> {caption} <end>\")\n",
    "\n",
    "#  Bir örnek göster\n",
    "for k in list(mapping.keys())[:1]:\n",
    "    print(f\"{k} => {mapping[k]}\")\n"
   ]
  },
  {
   "cell_type": "code",
   "execution_count": 5,
   "metadata": {},
   "outputs": [],
   "source": [
    "def clean_caption(text):\n",
    "    text = text.lower()\n",
    "    text = re.sub(r\"[^a-zA-Z0-9\\s]\", \"\", text)  # noktalama işaretlerini kaldır\n",
    "    text = re.sub(r\"\\s+\", \" \", text).strip()\n",
    "    return text\n",
    "\n",
    "# Mapping sözlüğünü temizle\n",
    "for k in mapping:\n",
    "    mapping[k] = [f\"<start> {clean_caption(cap)} <end>\" for cap in mapping[k]]\n"
   ]
  },
  {
   "cell_type": "code",
   "execution_count": 7,
   "metadata": {},
   "outputs": [
    {
     "name": "stdout",
     "output_type": "stream",
     "text": [
      "Max caption length: 82\n"
     ]
    }
   ],
   "source": [
    "from tensorflow.keras.preprocessing.text import Tokenizer\n",
    "\n",
    "all_captions = []\n",
    "for caps in mapping.values():\n",
    "    all_captions.extend(caps)\n",
    "\n",
    "tokenizer = Tokenizer(oov_token=\"<unk>\")\n",
    "tokenizer.fit_on_texts(all_captions)\n",
    "\n",
    "# Tokenizer’ı kaydet (ileride tekrar yüklemek için)\n",
    "import pickle\n",
    "with open(\"../utils/flickr30k_tokenizer.pkl\", \"wb\") as f:\n",
    "    pickle.dump(tokenizer, f)\n",
    "\n",
    "# Maksimum uzunluk\n",
    "max_len = max(len(c.split()) for c in all_captions)\n",
    "print(\"Max caption length:\", max_len)\n"
   ]
  },
  {
   "cell_type": "code",
   "execution_count": 9,
   "metadata": {},
   "outputs": [
    {
     "ename": "NameError",
     "evalue": "name 'save' is not defined",
     "output_type": "error",
     "traceback": [
      "\u001b[1;31m---------------------------------------------------------------------------\u001b[0m",
      "\u001b[1;31mNameError\u001b[0m                                 Traceback (most recent call last)",
      "Cell \u001b[1;32mIn[9], line 3\u001b[0m\n\u001b[0;32m      1\u001b[0m \u001b[38;5;28;01mimport\u001b[39;00m \u001b[38;5;21;01mpickle\u001b[39;00m\n\u001b[1;32m----> 3\u001b[0m \u001b[38;5;28;01mwith\u001b[39;00m \u001b[43msave\u001b[49m(\u001b[38;5;124m\"\u001b[39m\u001b[38;5;124mutils/flickr30k_mapping.pkl\u001b[39m\u001b[38;5;124m\"\u001b[39m, \u001b[38;5;124m\"\u001b[39m\u001b[38;5;124mwb\u001b[39m\u001b[38;5;124m\"\u001b[39m) \u001b[38;5;28;01mas\u001b[39;00m f:\n\u001b[0;32m      4\u001b[0m     pickle\u001b[38;5;241m.\u001b[39mdump(mapping, f)\n\u001b[0;32m      6\u001b[0m \u001b[38;5;28mprint\u001b[39m(\u001b[38;5;124m\"\u001b[39m\u001b[38;5;124mMapping başarıyla kaydedildi ✔\u001b[39m\u001b[38;5;124m\"\u001b[39m)\n",
      "\u001b[1;31mNameError\u001b[0m: name 'save' is not defined"
     ]
    }
   ],
   "source": [
    "import pickle\n",
    "\n",
    "with save(\"utils/flickr30k_mapping.pkl\", \"wb\") as f:\n",
    "    pickle.dump(mapping, f)\n",
    "\n",
    "print(\"Mapping başarıyla kaydedildi ✔\")\n"
   ]
  }
 ],
 "metadata": {
  "kernelspec": {
   "display_name": "env_zkan",
   "language": "python",
   "name": "python3"
  },
  "language_info": {
   "codemirror_mode": {
    "name": "ipython",
    "version": 3
   },
   "file_extension": ".py",
   "mimetype": "text/x-python",
   "name": "python",
   "nbconvert_exporter": "python",
   "pygments_lexer": "ipython3",
   "version": "3.9.20"
  }
 },
 "nbformat": 4,
 "nbformat_minor": 2
}
