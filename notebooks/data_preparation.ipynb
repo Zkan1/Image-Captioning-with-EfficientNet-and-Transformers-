{
 "cells": [
  {
   "cell_type": "code",
   "execution_count": null,
   "metadata": {},
   "outputs": [],
   "source": [
    "# 📦 Temel importlar\n",
    "import os\n",
    "import pickle\n",
    "from tensorflow.keras.preprocessing.text import Tokenizer\n",
    "from src.preprocessing import load_captions, clean_mapping\n",
    "\n",
    "# 📁 Dizin tanımları\n",
    "DATA_DIR = \"../data/flickr30k\"\n",
    "IMAGE_DIR = os.path.join(DATA_DIR, \"images\")\n",
    "CAPTION_FILE = os.path.join(DATA_DIR, \"results.csv\")\n",
    "\n",
    "# 📖 Mapping sözlüğünü yükle\n",
    "mapping = load_captions(CAPTION_FILE)\n",
    "print(f\"Toplam görsel sayısı: {len(mapping)}\")\n",
    "example_key = list(mapping.keys())[0]\n",
    "print(f\"Örnek:\\n{example_key} → {mapping[example_key]}\")\n",
    "\n",
    "# 🧼 Caption'ları temizle\n",
    "mapping = clean_mapping(mapping)\n",
    "\n",
    "# 📝 Tüm caption'ları birleştir\n",
    "all_captions = []\n",
    "for captions in mapping.values():\n",
    "    all_captions.extend(captions)\n",
    "\n",
    "# 🔠 Tokenizer oluştur\n",
    "tokenizer = Tokenizer(oov_token=\"<unk>\")\n",
    "tokenizer.fit_on_texts(all_captions)\n",
    "\n",
    "# 💾 Tokenizer'ı kaydet\n",
    "with open(\"../utils/flickr30k_tokenizer.pkl\", \"wb\") as f:\n",
    "    pickle.dump(tokenizer, f)\n",
    "\n",
    "# 💾 Mapping'i kaydet\n",
    "with open(\"../utils/flickr30k_mapping.pkl\", \"wb\") as f:\n",
    "    pickle.dump(mapping, f)\n",
    "\n",
    "# 🔢 Maksimum caption uzunluğu\n",
    "max_len = max(len(c.split()) for c in all_captions)\n",
    "print(\"Max caption length:\", max_len)\n"
   ]
  },
  {
   "cell_type": "code",
   "execution_count": null,
   "metadata": {},
   "outputs": [],
   "source": []
  }
 ],
 "metadata": {
  "kernelspec": {
   "display_name": "env_zkan",
   "language": "python",
   "name": "python3"
  },
  "language_info": {
   "codemirror_mode": {
    "name": "ipython",
    "version": 3
   },
   "file_extension": ".py",
   "mimetype": "text/x-python",
   "name": "python",
   "nbconvert_exporter": "python",
   "pygments_lexer": "ipython3",
   "version": "3.9.20"
  }
 },
 "nbformat": 4,
 "nbformat_minor": 2
}
