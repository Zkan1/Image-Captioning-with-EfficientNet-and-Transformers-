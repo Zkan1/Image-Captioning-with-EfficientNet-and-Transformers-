{
 "cells": [
  {
   "cell_type": "code",
   "execution_count": null,
   "metadata": {},
   "outputs": [],
   "source": [
    "# 📦 İmportlar\n",
    "import os\n",
    "import pickle\n",
    "from src.feature_extraction import build_feature_extractor, extract_features\n",
    "\n",
    "# 📁 Dizinler\n",
    "IMAGE_DIR = \"../data/flickr30k/images\"\n",
    "FEATURES_PATH = \"../models/features_flickr30k.pkl\"\n",
    "\n",
    "# 🧠 EfficientNetB5 modelini oluştur\n",
    "model = build_feature_extractor()\n",
    "print(\"EfficientNetB5 tabanlı model hazır.\")\n",
    "\n",
    "# 🧬 Özellik çıkar\n",
    "features = extract_features(model, IMAGE_DIR)\n",
    "\n",
    "# 💾 Kaydet\n",
    "with open(FEATURES_PATH, \"wb\") as f:\n",
    "    pickle.dump(features, f)\n",
    "\n",
    "print(f\"\\nToplam {len(features)} görsel için özellik çıkarımı tamamlandı ve kaydedildi.\")\n"
   ]
  }
 ],
 "metadata": {
  "kernelspec": {
   "display_name": "env_zkan",
   "language": "python",
   "name": "python3"
  },
  "language_info": {
   "name": "python",
   "version": "3.9.20"
  }
 },
 "nbformat": 4,
 "nbformat_minor": 2
}
