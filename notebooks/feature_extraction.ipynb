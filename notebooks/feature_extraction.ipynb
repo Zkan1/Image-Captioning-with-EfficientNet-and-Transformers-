{
 "cells": [
  {
   "cell_type": "code",
   "execution_count": null,
   "metadata": {},
   "outputs": [],
   "source": [
    "#  Feature Extraction for Flickr30k Images using EfficientNetB5\n",
    "\n",
    "import os\n",
    "import numpy as np\n",
    "import pickle\n",
    "from tqdm import tqdm\n",
    "from tensorflow.keras.applications import EfficientNetB5\n",
    "from tensorflow.keras.applications.efficientnet import preprocess_input\n",
    "from tensorflow.keras.preprocessing.image import load_img, img_to_array\n",
    "from tensorflow.keras.models import Model\n",
    "from tensorflow.keras.layers import GlobalAveragePooling2D\n",
    "\n",
    "# Dizin Ayarları\n",
    "IMAGE_DIR = \"data/flickr30k/images\"\n",
    "OUTPUT_FEATURES_PATH = \"models/features_flickr30k.pkl\"\n",
    "\n",
    "#  EfficientNetB5 Modeli\n",
    "base_model = EfficientNetB5(weights=\"imagenet\", include_top=False, input_shape=(456, 456, 3))\n",
    "x = GlobalAveragePooling2D()(base_model.output)\n",
    "model = Model(inputs=base_model.input, outputs=x)\n",
    "print(\"EfficientNetB5 model hazır.\")\n",
    "\n",
    "#  Özellik Çıkarımı\n",
    "features = {}\n",
    "image_files = [f for f in os.listdir(IMAGE_DIR) if f.endswith(\".jpg\") or f.endswith(\".jpeg\") or f.endswith(\".png\")]\n",
    "\n",
    "for img_name in tqdm(image_files):\n",
    "    img_path = os.path.join(IMAGE_DIR, img_name)\n",
    "    image = load_img(img_path, target_size=(456, 456))\n",
    "    image = img_to_array(image)\n",
    "    image = np.expand_dims(image, axis=0)\n",
    "    image = preprocess_input(image)\n",
    "    feature_vector = model.predict(image, verbose=0)\n",
    "\n",
    "    image_id = os.path.splitext(img_name)[0]  # \"1000092795.jpg\" → \"1000092795\"\n",
    "    features[image_id] = feature_vector\n",
    "\n",
    "#  Özellikleri Kaydet\n",
    "with open(OUTPUT_FEATURES_PATH, \"wb\") as f:\n",
    "    pickle.dump(features, f)\n",
    "\n",
    "print(f\"\\nToplam {len(features)} görsel için özellik çıkarımı tamamlandı.\")\n"
   ]
  }
 ],
 "metadata": {
  "kernelspec": {
   "display_name": "env_zkan",
   "language": "python",
   "name": "python3"
  },
  "language_info": {
   "name": "python",
   "version": "3.9.20"
  }
 },
 "nbformat": 4,
 "nbformat_minor": 2
}
